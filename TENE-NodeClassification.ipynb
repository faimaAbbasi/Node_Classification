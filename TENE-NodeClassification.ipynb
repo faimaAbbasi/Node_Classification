{
 "cells": [
  {
   "cell_type": "markdown",
   "metadata": {},
   "source": [
    "# Node Classification Using Attributed Node Embeddings (TENE) "
   ]
  },
  {
   "cell_type": "markdown",
   "metadata": {},
   "source": [
    "#### Loading Modules & Voting Network "
   ]
  },
  {
   "cell_type": "code",
   "execution_count": 15,
   "metadata": {},
   "outputs": [],
   "source": [
    "import pandas as pd\n",
    "import warnings\n",
    "warnings.filterwarnings('ignore')\n",
    "from sklearn.metrics import precision_score, recall_score, f1_score,accuracy_score\n",
    "from sklearn.model_selection import train_test_split\n",
    "import networkx as nx\n",
    "from sklearn import metrics\n",
    "from sklearn.metrics import confusion_matrix, classification_report\n",
    "import numpy as np\n",
    "import matplotlib.pyplot as plt\n",
    "import random\n",
    "from karateclub.node_embedding.attributed import TENE\n",
    "from sklearn.tree import DecisionTreeClassifier\n",
    "from karateclub.node_embedding.structural import Role2Vec\n",
    "from sklearn.linear_model import LogisticRegression\n",
    "from sklearn.preprocessing import LabelEncoder\n",
    "\n",
    "from recommend.pmf import PMF\n",
    "from recommend.bpmf import BPMF\n",
    "from numpy.random import RandomState\n",
    "from recommend.utils.evaluation import RMSE\n",
    "rand_state = RandomState(0)\n",
    "\n",
    "df = pd.read_csv(\"wikiRfA.csv\")\n",
    "labT = LabelEncoder()\n",
    "df['TARGET']=labT.fit_transform(df['TARGET'])\n",
    "df['TARGET']=df['TARGET']+2\n",
    "labS=LabelEncoder()\n",
    "df['SOURCE']=labS.fit_transform(df['SOURCE'])\n",
    "df['SOURCE']=df['SOURCE']+2"
   ]
  },
  {
   "cell_type": "markdown",
   "metadata": {},
   "source": [
    "#### Splitting Voting Network & Extracting Node Centrality "
   ]
  },
  {
   "cell_type": "code",
   "execution_count": 16,
   "metadata": {},
   "outputs": [],
   "source": [
    "data_np=df.values\n",
    "n_user = max(data_np[:,0])\n",
    "n_item = max(data_np[:,0])\n",
    "data_np[:, (0, 1)] -= 1\n",
    "train_pct = 0.9\n",
    "rand_state.shuffle(data_np)\n",
    "train_size = int(train_pct * data_np.shape[0])\n",
    "train = data_np[:train_size]\n",
    "test = data_np[train_size:]\n",
    "\n",
    "training_data=pd.DataFrame(train, columns=['SOURCE','TARGET','VOTE','RESULT'])\n",
    "testing_data=pd.DataFrame(test, columns=['SOURCE','TARGET','VOTE','RESULT'])\n",
    "\n",
    "training_data['in_edges'] = training_data.groupby('TARGET')['VOTE'].transform('count')\n",
    "training_data['out_edges'] = training_data.groupby('SOURCE')['VOTE'].transform('count')\n",
    "training_data['avg_in_weight'] = training_data.groupby('TARGET')['VOTE'].transform('mean')\n",
    "training_data['avg_out_weight'] = training_data.groupby('SOURCE')['VOTE'].transform('mean')"
   ]
  },
  {
   "cell_type": "code",
   "execution_count": 17,
   "metadata": {},
   "outputs": [],
   "source": [
    "Training_target_features = {}\n",
    "for index, row in training_data.iterrows():\n",
    "    node_name = row['TARGET']\n",
    "    in_edges = row['in_edges']\n",
    "    out_edges = row['out_edges']\n",
    "    avg_in_weight = row['avg_in_weight']\n",
    "    avg_out_weight = row['avg_out_weight']\n",
    "    Training_target_features[node_name] = [in_edges, out_edges, avg_in_weight, avg_out_weight]\n",
    "\n",
    "Training_source_features = {}\n",
    "for index, row in training_data.iterrows():\n",
    "    node_name = row['SOURCE']\n",
    "    in_edges = row['in_edges']\n",
    "    out_edges = row['out_edges']\n",
    "    avg_in_weight = row['avg_in_weight']\n",
    "    avg_out_weight = row['avg_out_weight']\n",
    "    Training_source_features[node_name] = [in_edges, out_edges, avg_in_weight, avg_out_weight]\n",
    "\n",
    "#Constructing Graph\n",
    "Training_graph = nx.DiGraph()\n",
    "for index, row in training_data.iterrows():\n",
    "    source = row['SOURCE']\n",
    "    target = row['TARGET']\n",
    "    voting = row['VOTE']\n",
    "    result = row['RESULT']\n",
    "    Training_graph.add_node(source)\n",
    "    Training_graph.add_node(target)\n",
    "    Training_graph.nodes[target]['vote'] = result\n",
    "    Training_graph.add_edge(source, target, label=voting)"
   ]
  },
  {
   "cell_type": "markdown",
   "metadata": {},
   "source": [
    "#### Using TENE to Extract Probabilistic Node Embeddings of Training Network  "
   ]
  },
  {
   "cell_type": "code",
   "execution_count": 18,
   "metadata": {},
   "outputs": [],
   "source": [
    "nx.convert_node_labels_to_integers(Training_graph, first_label=0 , ordering ='sorted',label_attribute =\"node_type\")\n",
    "mapping = dict (zip(Training_graph, range(len(Training_graph.nodes))))\n",
    "G_train = nx.relabel_nodes(Training_graph, mapping)"
   ]
  },
  {
   "cell_type": "code",
   "execution_count": 19,
   "metadata": {},
   "outputs": [],
   "source": [
    "x = np.random.uniform(-1, 1, (int(G_train.number_of_nodes()), int(G_train.number_of_nodes())))\n",
    "\n",
    "model = TENE()\n",
    "model.fit(G_train, x)\n",
    "node_embeddings=model.get_embedding()"
   ]
  },
  {
   "cell_type": "markdown",
   "metadata": {},
   "source": [
    "#### Constructing Feature Vector of Training Network "
   ]
  },
  {
   "cell_type": "code",
   "execution_count": 20,
   "metadata": {},
   "outputs": [],
   "source": [
    "np.set_printoptions(suppress=True)\n",
    "X_train = []\n",
    "y_train = []\n",
    "for node in G_train.nodes():\n",
    "    if node in Training_target_features:\n",
    "        node_embedding = node_embeddings[node]\n",
    "        in_edges = Training_target_features[node][0]\n",
    "        out_edges = Training_target_features[node][1]\n",
    "        avg_in_weight = Training_target_features[node][2]\n",
    "        avg_out_weight = Training_target_features[node][3]\n",
    "        X_train.append(np.concatenate([node_embedding, [in_edges], [out_edges], [avg_in_weight], [avg_out_weight]]))\n",
    "        y_train.append(Training_graph.nodes[node]['vote'])"
   ]
  },
  {
   "cell_type": "markdown",
   "metadata": {},
   "source": [
    "#### Classifier Training on basis of Feature Vector "
   ]
  },
  {
   "cell_type": "code",
   "execution_count": 21,
   "metadata": {},
   "outputs": [
    {
     "data": {
      "text/html": [
       "<style>#sk-container-id-2 {color: black;background-color: white;}#sk-container-id-2 pre{padding: 0;}#sk-container-id-2 div.sk-toggleable {background-color: white;}#sk-container-id-2 label.sk-toggleable__label {cursor: pointer;display: block;width: 100%;margin-bottom: 0;padding: 0.3em;box-sizing: border-box;text-align: center;}#sk-container-id-2 label.sk-toggleable__label-arrow:before {content: \"▸\";float: left;margin-right: 0.25em;color: #696969;}#sk-container-id-2 label.sk-toggleable__label-arrow:hover:before {color: black;}#sk-container-id-2 div.sk-estimator:hover label.sk-toggleable__label-arrow:before {color: black;}#sk-container-id-2 div.sk-toggleable__content {max-height: 0;max-width: 0;overflow: hidden;text-align: left;background-color: #f0f8ff;}#sk-container-id-2 div.sk-toggleable__content pre {margin: 0.2em;color: black;border-radius: 0.25em;background-color: #f0f8ff;}#sk-container-id-2 input.sk-toggleable__control:checked~div.sk-toggleable__content {max-height: 200px;max-width: 100%;overflow: auto;}#sk-container-id-2 input.sk-toggleable__control:checked~label.sk-toggleable__label-arrow:before {content: \"▾\";}#sk-container-id-2 div.sk-estimator input.sk-toggleable__control:checked~label.sk-toggleable__label {background-color: #d4ebff;}#sk-container-id-2 div.sk-label input.sk-toggleable__control:checked~label.sk-toggleable__label {background-color: #d4ebff;}#sk-container-id-2 input.sk-hidden--visually {border: 0;clip: rect(1px 1px 1px 1px);clip: rect(1px, 1px, 1px, 1px);height: 1px;margin: -1px;overflow: hidden;padding: 0;position: absolute;width: 1px;}#sk-container-id-2 div.sk-estimator {font-family: monospace;background-color: #f0f8ff;border: 1px dotted black;border-radius: 0.25em;box-sizing: border-box;margin-bottom: 0.5em;}#sk-container-id-2 div.sk-estimator:hover {background-color: #d4ebff;}#sk-container-id-2 div.sk-parallel-item::after {content: \"\";width: 100%;border-bottom: 1px solid gray;flex-grow: 1;}#sk-container-id-2 div.sk-label:hover label.sk-toggleable__label {background-color: #d4ebff;}#sk-container-id-2 div.sk-serial::before {content: \"\";position: absolute;border-left: 1px solid gray;box-sizing: border-box;top: 0;bottom: 0;left: 50%;z-index: 0;}#sk-container-id-2 div.sk-serial {display: flex;flex-direction: column;align-items: center;background-color: white;padding-right: 0.2em;padding-left: 0.2em;position: relative;}#sk-container-id-2 div.sk-item {position: relative;z-index: 1;}#sk-container-id-2 div.sk-parallel {display: flex;align-items: stretch;justify-content: center;background-color: white;position: relative;}#sk-container-id-2 div.sk-item::before, #sk-container-id-2 div.sk-parallel-item::before {content: \"\";position: absolute;border-left: 1px solid gray;box-sizing: border-box;top: 0;bottom: 0;left: 50%;z-index: -1;}#sk-container-id-2 div.sk-parallel-item {display: flex;flex-direction: column;z-index: 1;position: relative;background-color: white;}#sk-container-id-2 div.sk-parallel-item:first-child::after {align-self: flex-end;width: 50%;}#sk-container-id-2 div.sk-parallel-item:last-child::after {align-self: flex-start;width: 50%;}#sk-container-id-2 div.sk-parallel-item:only-child::after {width: 0;}#sk-container-id-2 div.sk-dashed-wrapped {border: 1px dashed gray;margin: 0 0.4em 0.5em 0.4em;box-sizing: border-box;padding-bottom: 0.4em;background-color: white;}#sk-container-id-2 div.sk-label label {font-family: monospace;font-weight: bold;display: inline-block;line-height: 1.2em;}#sk-container-id-2 div.sk-label-container {text-align: center;}#sk-container-id-2 div.sk-container {/* jupyter's `normalize.less` sets `[hidden] { display: none; }` but bootstrap.min.css set `[hidden] { display: none !important; }` so we also need the `!important` here to be able to override the default hidden behavior on the sphinx rendered scikit-learn.org. See: https://github.com/scikit-learn/scikit-learn/issues/21755 */display: inline-block !important;position: relative;}#sk-container-id-2 div.sk-text-repr-fallback {display: none;}</style><div id=\"sk-container-id-2\" class=\"sk-top-container\"><div class=\"sk-text-repr-fallback\"><pre>DecisionTreeClassifier(max_depth=5)</pre><b>In a Jupyter environment, please rerun this cell to show the HTML representation or trust the notebook. <br />On GitHub, the HTML representation is unable to render, please try loading this page with nbviewer.org.</b></div><div class=\"sk-container\" hidden><div class=\"sk-item\"><div class=\"sk-estimator sk-toggleable\"><input class=\"sk-toggleable__control sk-hidden--visually\" id=\"sk-estimator-id-2\" type=\"checkbox\" checked><label for=\"sk-estimator-id-2\" class=\"sk-toggleable__label sk-toggleable__label-arrow\">DecisionTreeClassifier</label><div class=\"sk-toggleable__content\"><pre>DecisionTreeClassifier(max_depth=5)</pre></div></div></div></div></div>"
      ],
      "text/plain": [
       "DecisionTreeClassifier(max_depth=5)"
      ]
     },
     "execution_count": 21,
     "metadata": {},
     "output_type": "execute_result"
    }
   ],
   "source": [
    "#clf = LogisticRegression(solver='newton-cg',penalty='none',max_iter=1000)\n",
    "clf=DecisionTreeClassifier(max_depth=5)\n",
    "clf.fit(X_train, y_train)"
   ]
  },
  {
   "cell_type": "markdown",
   "metadata": {},
   "source": [
    "#### Using TENE to Extract Probabilistic Node Embeddings of Test Network "
   ]
  },
  {
   "cell_type": "code",
   "execution_count": 22,
   "metadata": {},
   "outputs": [],
   "source": [
    "testing_data['in_edges'] = testing_data.groupby('TARGET')['VOTE'].transform('count')\n",
    "testing_data['out_edges'] = testing_data.groupby('SOURCE')['VOTE'].transform('count')\n",
    "testing_data['avg_in_weight'] = testing_data.groupby('TARGET')['VOTE'].transform('mean')\n",
    "testing_data['avg_out_weight'] = testing_data.groupby('SOURCE')['VOTE'].transform('mean')\n",
    "\n",
    "Test_source_features = {}\n",
    "for index, row in testing_data.iterrows():\n",
    "    node_name = row['SOURCE']\n",
    "    in_edges = row['in_edges']\n",
    "    out_edges = row['out_edges']\n",
    "    avg_in_weight = row['avg_in_weight']\n",
    "    avg_out_weight = row['avg_out_weight']\n",
    "    Test_source_features[node_name] = [in_edges, out_edges, avg_in_weight, avg_out_weight]\n",
    "    \n",
    "Test_target_features = {}\n",
    "for index, row in testing_data.iterrows():\n",
    "    node_name = row['TARGET']\n",
    "    in_edges = row['in_edges']\n",
    "    out_edges = row['out_edges']\n",
    "    avg_in_weight = row['avg_in_weight']\n",
    "    avg_out_weight = row['avg_out_weight']\n",
    "    Test_target_features[node_name] = [in_edges, out_edges, avg_in_weight, avg_out_weight]\n",
    "\n",
    "Test_graph = nx.DiGraph()\n",
    "for index, row in testing_data.iterrows():\n",
    "    source = row['SOURCE']\n",
    "    target = row['TARGET']\n",
    "    voting = row['VOTE']\n",
    "    result = row['RESULT']\n",
    "    Test_graph.add_node(source)\n",
    "    Test_graph.add_node(target)\n",
    "    Test_graph.nodes[target]['vote'] = result\n",
    "    Test_graph.add_edge(source, target, label=voting)"
   ]
  },
  {
   "cell_type": "markdown",
   "metadata": {},
   "source": [
    "#### Constructing Feature Vector for Test Network "
   ]
  },
  {
   "cell_type": "code",
   "execution_count": null,
   "metadata": {},
   "outputs": [],
   "source": [
    "nx.convert_node_labels_to_integers(Test_graph, first_label=0 , ordering ='sorted',label_attribute =\" node_type \")\n",
    "mapping = dict (zip(Test_graph, range(len(Test_graph.nodes))))\n",
    "G_test = nx.relabel_nodes(Test_graph, mapping)\n",
    "\n",
    "y = np.random.uniform(-1, 1, (int(G_test.number_of_nodes()), int(G_test.number_of_nodes())))\n",
    "\n",
    "model = TENE()\n",
    "model.fit(G_test, y)\n",
    "test_node_embeddings=model.get_embedding()\n",
    "\n",
    "np.set_printoptions(suppress=True)\n",
    "X_test = []\n",
    "y_test = []\n",
    "for node in G_test.nodes():\n",
    "    if node in Test_target_features:\n",
    "        node_embedding = test_node_embeddings[node]\n",
    "        in_edges = Test_target_features[node][0]\n",
    "        out_edges = Test_target_features[node][1]\n",
    "        avg_in_weight = Test_target_features[node][2]\n",
    "        avg_out_weight = Test_target_features[node][3]\n",
    "        X_test.append(np.concatenate([node_embedding, [in_edges], [out_edges], [avg_in_weight], [avg_out_weight]]))\n",
    "        y_test.append(Test_graph.nodes[node]['vote'])"
   ]
  },
  {
   "cell_type": "markdown",
   "metadata": {},
   "source": [
    "#### Classifier Evaluation "
   ]
  },
  {
   "cell_type": "code",
   "execution_count": null,
   "metadata": {},
   "outputs": [],
   "source": [
    "y_pred = clf.predict(X_test)\n",
    "y_prob = clf.predict_proba(X_test)[::,1]\n",
    "\n",
    "print(classification_report(y_test, y_pred))\n",
    "print(\"Precision/Accuracy:\", precision_score(y_test, y_pred), accuracy_score(y_test, y_pred) )\n",
    "cm = confusion_matrix(y_test, y_pred)\n",
    "cm_display = metrics.ConfusionMatrixDisplay(confusion_matrix = cm, display_labels = [0, 1])\n",
    "cm_display.plot()\n",
    "plt.show()"
   ]
  },
  {
   "cell_type": "markdown",
   "metadata": {},
   "source": [
    "#### Plotting ROC Curve "
   ]
  },
  {
   "cell_type": "code",
   "execution_count": 11,
   "metadata": {},
   "outputs": [
    {
     "data": {
      "image/png": "[encoded data removed]",
      "text/plain": [
       "<Figure size 432x288 with 1 Axes>"
      ]
     },
     "metadata": {
      "needs_background": "light"
     },
     "output_type": "display_data"
    }
   ],
   "source": [
    "import matplotlib.pyplot as plt\n",
    "from sklearn.metrics import roc_curve, roc_auc_score\n",
    "fpr, tpr, thresholds = roc_curve(y_test, y_prob)\n",
    "interp_fpr = np.linspace(0, 1, num=90000000)\n",
    "interp_tpr = np.interp(interp_fpr, fpr, tpr)\n",
    "auc_roc = roc_auc_score(y_test, y_prob)\n",
    "\n",
    "plt.plot(fpr, tpr, label='AUC-ROC curve (AUC = {:.2f})'.format(auc_roc))\n",
    "plt.plot([0, 1], [0, 1], 'k--', label='Random')\n",
    "plt.xlabel('False Positive Rate (FPR)')\n",
    "plt.ylabel('True Positive Rate (TPR)')\n",
    "plt.title('Receiver Operating Characteristic (ROC) Curve')\n",
    "plt.legend(loc='lower right')\n",
    "plt.grid(True)\n",
    "plt.show()"
   ]
  }
 ],
 "metadata": {
  "kernelspec": {
   "display_name": "Python 3",
   "language": "python",
   "name": "python3"
  },
  "language_info": {
   "codemirror_mode": {
    "name": "ipython",
    "version": 3
   },
   "file_extension": ".py",
   "mimetype": "text/x-python",
   "name": "python",
   "nbconvert_exporter": "python",
   "pygments_lexer": "ipython3",
   "version": "3.8.5"
  }
 },
 "nbformat": 4,
 "nbformat_minor": 4
}
